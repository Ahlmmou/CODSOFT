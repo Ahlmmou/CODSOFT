{
 "cells": [
  {
   "cell_type": "code",
   "execution_count": null,
   "id": "18484f9e",
   "metadata": {},
   "outputs": [
    {
     "name": "stdout",
     "output_type": "stream",
     "text": [
      "The game has started!\n"
     ]
    }
   ],
   "source": [
    "import random\n",
    "\n",
    "\n",
    "\n",
    "def play_game():\n",
    "    user_score = 0\n",
    "    computer_score = 0\n",
    "    \n",
    "    while True:\n",
    "        \n",
    "        print(\"The game has started!\")\n",
    "        \n",
    "        user_input = input(\"Choose ROCK, PAPER, or SCISSORS: \").upper() #To ensure user may use Paper and PAPER for eg\n",
    "        computer_choice = random.choice([\"ROCK\", \"PAPER\", \"SCISSORS\"])\n",
    "        if user_input not in [\"ROCK\", \"PAPER\", \"SCISSORS\"]:\n",
    "            print(\"Invalid input. Please try again\")\n",
    "            continue\n",
    "        \n",
    "        print(f\"You chose: {user_input} and Computer chose: {computer_choice}.\")\n",
    "        \n",
    "        if user_input == computer_choice:\n",
    "            print(\"It's a tie\")\n",
    "        elif user_input == 'ROCK' and computer_choice == 'SCISSORS':\n",
    "            print(\"User Wins\")\n",
    "            user_score +=1\n",
    "        elif user_input == 'PAPER' and computer_choice == 'ROCK':\n",
    "            print(\"User Wins\")\n",
    "            user_score +=1\n",
    "        elif user_input == 'SCISSORS' and computer_choice == 'PAPER':\n",
    "            print(\"User Wins\")\n",
    "            user_score +=1\n",
    "        else:\n",
    "            print(\"User Loses\")\n",
    "            computer_score +=1\n",
    "\n",
    "        \n",
    "        print(f\" User score = {user_score}, Computer score = {computer_score}\")\n",
    "        \n",
    "        play_again = input(\"Would you like to play another round? Please answer with Yes or No \").lower()\n",
    "        if play_again != 'yes':\n",
    "            print(\"Thanks for playing. Goodbye!\")\n",
    "            break\n",
    "            \n",
    "if __name__ == \"__main__\":\n",
    "    play_game()"
   ]
  },
  {
   "cell_type": "code",
   "execution_count": null,
   "id": "da556314",
   "metadata": {},
   "outputs": [],
   "source": []
  }
 ],
 "metadata": {
  "kernelspec": {
   "display_name": "Python 3 (ipykernel)",
   "language": "python",
   "name": "python3"
  },
  "language_info": {
   "codemirror_mode": {
    "name": "ipython",
    "version": 3
   },
   "file_extension": ".py",
   "mimetype": "text/x-python",
   "name": "python",
   "nbconvert_exporter": "python",
   "pygments_lexer": "ipython3",
   "version": "3.9.13"
  }
 },
 "nbformat": 4,
 "nbformat_minor": 5
}
